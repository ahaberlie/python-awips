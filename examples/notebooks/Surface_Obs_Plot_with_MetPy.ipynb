{
 "cells": [
  {
   "cell_type": "markdown",
   "metadata": {},
   "source": [
    "Based on the MetPy example [\"Station Plot with Layout\"](http://metpy.readthedocs.org/en/latest/examples/generated/Station_Plot_with_Layout.html)"
   ]
  },
  {
   "cell_type": "code",
   "execution_count": 8,
   "metadata": {
    "collapsed": false,
    "scrolled": true
   },
   "outputs": [],
   "source": [
    "%matplotlib inline\n",
    "import matplotlib.pyplot as plt\n",
    "import numpy as np\n",
    "from awips.dataaccess import DataAccessLayer\n",
    "\n",
    "from metpy.calc import get_wind_components\n",
    "from metpy.cbook import get_test_data\n",
    "from metpy.plots import StationPlot, StationPlotLayout, simple_layout\n",
    "from metpy.units import units\n"
   ]
  },
  {
   "cell_type": "code",
   "execution_count": 11,
   "metadata": {
    "collapsed": false
   },
   "outputs": [
    {
     "name": "stdout",
     "output_type": "stream",
     "text": [
      "('presWeather', 'skyCover', 'skyLayerBase', 'stationName', 'temperature', 'dewpoint', 'windDir', 'windSpeed', 'seaLevelPress', 'longitude', 'latitude')\n"
     ]
    }
   ],
   "source": [
    "# Initialize\n",
    "DataAccessLayer.changeEDEXHost(\"edex-cloud.unidata.ucar.edu\")\n",
    "\n",
    "request = DataAccessLayer.newDataRequest()\n",
    "request.setDatatype(\"obs\")"
   ]
  },
  {
   "cell_type": "code",
   "execution_count": 13,
   "metadata": {
    "collapsed": false
   },
   "outputs": [
    {
     "ename": "TypeError",
     "evalue": "__new__() takes exactly 12 arguments (1 given)",
     "output_type": "error",
     "traceback": [
      "\u001b[1;31m---------------------------------------------------------------------------\u001b[0m",
      "\u001b[1;31mTypeError\u001b[0m                                 Traceback (most recent call last)",
      "\u001b[1;32m<ipython-input-13-598dd7107c87>\u001b[0m in \u001b[0;36m<module>\u001b[1;34m()\u001b[0m\n\u001b[0;32m      4\u001b[0m \u001b[1;33m\u001b[0m\u001b[0m\n\u001b[0;32m      5\u001b[0m \u001b[0mcustom_list\u001b[0m \u001b[1;33m=\u001b[0m \u001b[0mnamedtuple\u001b[0m\u001b[1;33m(\u001b[0m\u001b[1;34m\"wx_obs\"\u001b[0m\u001b[1;33m,\u001b[0m \u001b[0mparam_list\u001b[0m\u001b[1;33m)\u001b[0m\u001b[1;33m\u001b[0m\u001b[0m\n\u001b[1;32m----> 6\u001b[1;33m \u001b[0mwx_obs\u001b[0m \u001b[1;33m=\u001b[0m \u001b[0mcustom_list\u001b[0m\u001b[1;33m(\u001b[0m\u001b[1;33m)\u001b[0m\u001b[1;33m\u001b[0m\u001b[0m\n\u001b[0m\u001b[0;32m      7\u001b[0m \u001b[1;33m\u001b[0m\u001b[0m\n\u001b[0;32m      8\u001b[0m \u001b[1;32mprint\u001b[0m\u001b[1;33m(\u001b[0m\u001b[0mwx_obs\u001b[0m\u001b[1;33m.\u001b[0m\u001b[0m_fields\u001b[0m\u001b[1;33m)\u001b[0m\u001b[1;33m\u001b[0m\u001b[0m\n",
      "\u001b[1;31mTypeError\u001b[0m: __new__() takes exactly 12 arguments (1 given)"
     ]
    }
   ],
   "source": [
    "param_list = [\"presWeather\",\"skyCover\", \"skyLayerBase\",\"stationName\",\n",
    "              \"temperature\",\"dewpoint\",\"windDir\",\"windSpeed\",\n",
    "              \"seaLevelPress\",\"longitude\",\"latitude\"]\n",
    "\n",
    "data_types = \n",
    "custom_list = namedtuple(\"wx_obs\", param_list)\n",
    "wx_obs = custom_list()\n",
    "\n",
    "print(wx_obs._fields)"
   ]
  },
  {
   "cell_type": "markdown",
   "metadata": {},
   "source": [
    "we need to set one station to query latest time.  this is hack-y and should be fixed\n",
    "because when you DON'T set a location name, you tend to get a single observation\n",
    "that came in a second ago, so your \"latest data for the last time for all stations\"\n",
    "data array consists of one village in Peru and time-matching is suspect right now.\n",
    "\n",
    "So here take a known US station (OKC) and hope/assume that a lot of other stations \n",
    "are also reporting (and that this is a 00/20/40 ob). "
   ]
  },
  {
   "cell_type": "code",
   "execution_count": 3,
   "metadata": {
    "collapsed": true
   },
   "outputs": [],
   "source": [
    "request.setLocationNames(\"KOKC\")\n",
    "datatimes = DataAccessLayer.getAvailableTimes(request)\n",
    "\n",
    "# Get most recent time for location\n",
    "time = datatimes[0].validPeriod"
   ]
  },
  {
   "cell_type": "code",
   "execution_count": 6,
   "metadata": {
    "collapsed": false
   },
   "outputs": [
    {
     "name": "stdout",
     "output_type": "stream",
     "text": [
      "(May 13 16 12:52:00 , May 13 16 12:52:00 )\n"
     ]
    },
    {
     "ename": "NameError",
     "evalue": "name 'latitude' is not defined",
     "output_type": "error",
     "traceback": [
      "\u001b[1;31m---------------------------------------------------------------------------\u001b[0m",
      "\u001b[1;31mNameError\u001b[0m                                 Traceback (most recent call last)",
      "\u001b[1;32m<ipython-input-6-9ebc71837b27>\u001b[0m in \u001b[0;36m<module>\u001b[1;34m()\u001b[0m\n\u001b[0;32m     39\u001b[0m \u001b[1;31m# Convert\u001b[0m\u001b[1;33m\u001b[0m\u001b[1;33m\u001b[0m\u001b[0m\n\u001b[0;32m     40\u001b[0m \u001b[0mdata\u001b[0m \u001b[1;33m=\u001b[0m \u001b[0mdict\u001b[0m\u001b[1;33m(\u001b[0m\u001b[1;33m)\u001b[0m\u001b[1;33m\u001b[0m\u001b[0m\n\u001b[1;32m---> 41\u001b[1;33m \u001b[0mdata\u001b[0m\u001b[1;33m[\u001b[0m\u001b[1;34m'latitude'\u001b[0m\u001b[1;33m]\u001b[0m  \u001b[1;33m=\u001b[0m \u001b[0mnp\u001b[0m\u001b[1;33m.\u001b[0m\u001b[0marray\u001b[0m\u001b[1;33m(\u001b[0m\u001b[0mlatitude\u001b[0m\u001b[1;33m)\u001b[0m\u001b[1;33m\u001b[0m\u001b[0m\n\u001b[0m\u001b[0;32m     42\u001b[0m \u001b[0mdata\u001b[0m\u001b[1;33m[\u001b[0m\u001b[1;34m'longitude'\u001b[0m\u001b[1;33m]\u001b[0m \u001b[1;33m=\u001b[0m \u001b[0mnp\u001b[0m\u001b[1;33m.\u001b[0m\u001b[0marray\u001b[0m\u001b[1;33m(\u001b[0m\u001b[0mlongitude\u001b[0m\u001b[1;33m)\u001b[0m\u001b[1;33m\u001b[0m\u001b[0m\n\u001b[0;32m     43\u001b[0m \u001b[0mdata\u001b[0m\u001b[1;33m[\u001b[0m\u001b[1;34m'air_temperature'\u001b[0m\u001b[1;33m]\u001b[0m \u001b[1;33m=\u001b[0m \u001b[0mnp\u001b[0m\u001b[1;33m.\u001b[0m\u001b[0marray\u001b[0m\u001b[1;33m(\u001b[0m\u001b[0mtemperature\u001b[0m\u001b[1;33m)\u001b[0m\u001b[1;33m*\u001b[0m \u001b[0munits\u001b[0m\u001b[1;33m.\u001b[0m\u001b[0mdegC\u001b[0m\u001b[1;33m\u001b[0m\u001b[0m\n",
      "\u001b[1;31mNameError\u001b[0m: name 'latitude' is not defined"
     ]
    }
   ],
   "source": [
    "# \"presWeather\",\"skyCover\",\"skyLayerBase\"\n",
    "# are multi-dimensional(??) and returned seperately (not sure why yet)... deal with those later\n",
    "request.setParameters(param_list)\n",
    "request.setLocationNames()\n",
    "response = DataAccessLayer.getGeometryData(request,times=time)\n",
    "print time\n",
    "PRES_PARAMS = set([\"presWeather\"])\n",
    "SKY_PARAMS = set([\"skyCover\", \"skyLayerBase\"])\n",
    "# Build ordered arrays\n",
    "data = dict()\n",
    "for num, ob in enumerate(response):\n",
    "    ob_id = str(num)\n",
    "    data[ob_id] = {}\n",
    "    if set(ob.getParameters()) & PRES_PARAMS:\n",
    "        data[ob_id]['presWeather'] = ob.getString(\"presWeather\")\n",
    "        \n",
    "    if set(ob.getParameters()) & SKY_PARAMS:\n",
    "        \n",
    "        data[ob_id]['skyCover'] = ob.getString(\"skyCover\")\n",
    "        data[ob_id]['skyLayerBase'] = ob.getNumber(\"skyLayerBase\")\n",
    "\n",
    "    data[ob_id]['latitude'] = float(ob.getString(\"latitude\"))\n",
    "    data[ob_id]['longitude'] = float(ob.getString(\"longitude\"))\n",
    "    #data['id']['stationName'] = float(ob.getString(\"stationName\"))\n",
    "    data[ob_id]['temperature'] = float(ob.getString(\"temperature\"))\n",
    "    data[ob_id]['dewpoint'] = float(ob.getString(\"dewpoint\"))\n",
    "    data[ob_id]['seaLevelPress'] = float(ob.getString(\"seaLevelPress\"))\n",
    "    data[ob_id]['windDir'] = float(ob.getString(\"windDir\"))\n",
    "    data[ob_id]['windSpeed'] = float(ob.getString(\"windSpeed\"))\n",
    "    \n",
    "    print(data[str(num)]) \n",
    "    \n",
    "#print len(wx)\n",
    "#print len(temperature)\n",
    "\n",
    "\n",
    "# Convert\n",
    "data = dict()\n",
    "data['latitude']  = np.array(latitude)\n",
    "data['longitude'] = np.array(longitude)\n",
    "data['air_temperature'] = np.array(temperature)* units.degC\n",
    "data['dew_point_temperature'] = np.array(dewpoint)* units.degC\n",
    "#data['air_pressure_at_sea_level'] = np.array(seaLevelPress)* units('mbar')\n",
    "u, v = get_wind_components(np.array(windSpeed) * units('knots'),\n",
    "                           np.array(windDir) * units.degree)\n",
    "data['eastward_wind'], data['northward_wind'] = u, v\n",
    "\n",
    "# Convert the fraction value into a code of 0-8, which can be used to pull out\n",
    "# the appropriate symbol\n",
    "#data['cloud_coverage'] = (8 * data_arr['cloud_fraction']).astype(int)\n",
    "\n",
    "# Map weather strings to WMO codes, which we can use to convert to symbols\n",
    "# Only use the first symbol if there are multiple\n",
    "#wx_text = make_string_list(data_arr['weather'])\n",
    "#wx_codes = {'':0, 'HZ':5, 'BR':10, '-DZ':51, 'DZ':53, '+DZ':55,\n",
    "#            '-RA':61, 'RA':63, '+RA':65, '-SN':71, 'SN':73, '+SN':75}\n",
    "#data['present_weather'] = [wx_codes[s.split()[0] if ' ' in s else s] for s in wx]\n",
    "\n",
    "# Set up the map projection\n",
    "import cartopy.crs as ccrs\n",
    "import cartopy.feature as feat\n",
    "from matplotlib import rcParams\n",
    "rcParams['savefig.dpi'] = 255\n",
    "proj = ccrs.LambertConformal(central_longitude=-95, central_latitude=35,\n",
    "                             standard_parallels=[35])\n",
    "state_boundaries = feat.NaturalEarthFeature(category='cultural',\n",
    "                                            name='admin_1_states_provinces_lines',\n",
    "                                            scale='110m', facecolor='none')\n",
    "# Create the figure\n",
    "fig = plt.figure(figsize=(20, 10))\n",
    "ax = fig.add_subplot(1, 1, 1, projection=proj)\n",
    "\n",
    "# Add map elements \n",
    "ax.add_feature(feat.LAND, zorder=-1)\n",
    "ax.add_feature(feat.OCEAN, zorder=-1)\n",
    "ax.add_feature(feat.LAKES, zorder=-1)\n",
    "ax.coastlines(resolution='110m', zorder=2, color='black')\n",
    "ax.add_feature(state_boundaries)\n",
    "ax.add_feature(feat.BORDERS, linewidth='2', edgecolor='black')\n",
    "ax.set_extent((-118, -73, 23, 50))\n",
    "\n",
    "# Start the station plot by specifying the axes to draw on, as well as the\n",
    "# lon/lat of the stations (with transform). We also the fontsize to 12 pt.\n",
    "stationplot = StationPlot(ax, data['longitude'], data['latitude'],\n",
    "                          transform=ccrs.PlateCarree(), fontsize=12)\n",
    "\n",
    "# The layout knows where everything should go, and things are standardized using\n",
    "# the names of variables. So the layout pulls arrays out of `data` and plots them\n",
    "# using `stationplot`.\n",
    "simple_layout.plot(stationplot, data)"
   ]
  },
  {
   "cell_type": "code",
   "execution_count": null,
   "metadata": {
    "collapsed": true
   },
   "outputs": [],
   "source": []
  }
 ],
 "metadata": {
  "kernelspec": {
   "display_name": "Python 2",
   "language": "python",
   "name": "python2"
  },
  "language_info": {
   "codemirror_mode": {
    "name": "ipython",
    "version": 2
   },
   "file_extension": ".py",
   "mimetype": "text/x-python",
   "name": "python",
   "nbconvert_exporter": "python",
   "pygments_lexer": "ipython2",
   "version": "2.7.11"
  }
 },
 "nbformat": 4,
 "nbformat_minor": 0
}
