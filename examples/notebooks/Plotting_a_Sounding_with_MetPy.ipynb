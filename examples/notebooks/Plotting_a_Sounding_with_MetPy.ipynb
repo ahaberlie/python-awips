{
 "cells": [
  {
   "cell_type": "code",
   "execution_count": 30,
   "metadata": {
    "collapsed": false
   },
   "outputs": [
    {
     "data": {
      "text/plain": [
       "['_DefaultDataRequest__makeLevel',\n",
       " '__abstractmethods__',\n",
       " '__class__',\n",
       " '__delattr__',\n",
       " '__dict__',\n",
       " '__doc__',\n",
       " '__format__',\n",
       " '__getattribute__',\n",
       " '__hash__',\n",
       " '__init__',\n",
       " '__metaclass__',\n",
       " '__module__',\n",
       " '__new__',\n",
       " '__reduce__',\n",
       " '__reduce_ex__',\n",
       " '__repr__',\n",
       " '__setattr__',\n",
       " '__sizeof__',\n",
       " '__str__',\n",
       " '__subclasshook__',\n",
       " '__weakref__',\n",
       " '_abc_cache',\n",
       " '_abc_negative_cache',\n",
       " '_abc_negative_cache_version',\n",
       " '_abc_registry',\n",
       " 'addIdentifier',\n",
       " 'datatype',\n",
       " 'envelope',\n",
       " 'getDatatype',\n",
       " 'getEnvelope',\n",
       " 'getIdentifiers',\n",
       " 'getLevels',\n",
       " 'getLocationNames',\n",
       " 'getParameters',\n",
       " 'identifiers',\n",
       " 'levels',\n",
       " 'locationNames',\n",
       " 'parameters',\n",
       " 'removeIdentifier',\n",
       " 'setDatatype',\n",
       " 'setEnvelope',\n",
       " 'setLevels',\n",
       " 'setLocationNames',\n",
       " 'setParameters']"
      ]
     },
     "execution_count": 30,
     "metadata": {},
     "output_type": "execute_result"
    }
   ],
   "source": [
    "from __future__ import print_function\n",
    "\n",
    "%matplotlib inline\n",
    "from awips.dataaccess import DataAccessLayer\n",
    "\n",
    "import matplotlib.tri as mtri\n",
    "import matplotlib.pyplot as plt\n",
    "from mpl_toolkits.axes_grid1.inset_locator import inset_axes\n",
    "import numpy as np\n",
    "\n",
    "from metpy.calc import get_wind_components, lcl, dry_lapse, parcel_profile\n",
    "from metpy.plots import SkewT, Hodograph\n",
    "from metpy.units import units, concatenate\n",
    "\n",
    "plt.rcParams['figure.figsize'] = (12, 14)\n",
    "\n",
    "# Set EDEX host\n",
    "DataAccessLayer.changeEDEXHost(\"edex-cloud.unidata.ucar.edu\")\n",
    "request = DataAccessLayer.newDataRequest()\n",
    "\n",
    "# Data type bufrua\n",
    "request.setDatatype(\"bufrua\")\n",
    "# Parameters\n",
    "request.setParameters(\"tpMan\",\"tdMan\",\"prMan\",\"htMan\",\"wdMan\",\"wsMan\", \"staName\")\n",
    "\n",
    "dir(request)\n",
    "# Station ID (name doesn't work yet)\n",
    "#request.setLocationNames(\"KDNR\")\n",
    "#datatimes = DataAccessLayer.getAvailableTimes(request)\n",
    "\n",
    "# Get most recent record\n",
    "#response = DataAccessLayer.getGeometryData(request,times=datatimes[-1].validPeriod)"
   ]
  },
  {
   "cell_type": "code",
   "execution_count": 23,
   "metadata": {
    "collapsed": false
   },
   "outputs": [
    {
     "name": "stdout",
     "output_type": "stream",
     "text": [
      "[<awips.dataaccess.PyGeometryData.PyGeometryData object at 0x0000000007B18A20>, <awips.dataaccess.PyGeometryData.PyGeometryData object at 0x0000000007B18BA8>, <awips.dataaccess.PyGeometryData.PyGeometryData object at 0x0000000003C0D5C0>, <awips.dataaccess.PyGeometryData.PyGeometryData object at 0x0000000003C0D5F8>, <awips.dataaccess.PyGeometryData.PyGeometryData object at 0x0000000003C0D588>, <awips.dataaccess.PyGeometryData.PyGeometryData object at 0x0000000003C0D668>, <awips.dataaccess.PyGeometryData.PyGeometryData object at 0x0000000003C0D6A0>, <awips.dataaccess.PyGeometryData.PyGeometryData object at 0x0000000003C0D6D8>, <awips.dataaccess.PyGeometryData.PyGeometryData object at 0x0000000003C0D710>, <awips.dataaccess.PyGeometryData.PyGeometryData object at 0x0000000003C0D748>, <awips.dataaccess.PyGeometryData.PyGeometryData object at 0x0000000003C0D780>, <awips.dataaccess.PyGeometryData.PyGeometryData object at 0x0000000003C0D7B8>, <awips.dataaccess.PyGeometryData.PyGeometryData object at 0x0000000003C0D7F0>, <awips.dataaccess.PyGeometryData.PyGeometryData object at 0x0000000003C0D828>, <awips.dataaccess.PyGeometryData.PyGeometryData object at 0x0000000003C0D860>, <awips.dataaccess.PyGeometryData.PyGeometryData object at 0x0000000003C0D898>, <awips.dataaccess.PyGeometryData.PyGeometryData object at 0x0000000003C0D8D0>, <awips.dataaccess.PyGeometryData.PyGeometryData object at 0x0000000003C0D908>, <awips.dataaccess.PyGeometryData.PyGeometryData object at 0x0000000003C0D940>, <awips.dataaccess.PyGeometryData.PyGeometryData object at 0x0000000003C0D978>, <awips.dataaccess.PyGeometryData.PyGeometryData object at 0x0000000003C0D9B0>, <awips.dataaccess.PyGeometryData.PyGeometryData object at 0x0000000003C0D9E8>, <awips.dataaccess.PyGeometryData.PyGeometryData object at 0x0000000003C0DA20>, <awips.dataaccess.PyGeometryData.PyGeometryData object at 0x0000000003C0DA58>, <awips.dataaccess.PyGeometryData.PyGeometryData object at 0x0000000003C0DA90>, <awips.dataaccess.PyGeometryData.PyGeometryData object at 0x0000000003C0DAC8>, <awips.dataaccess.PyGeometryData.PyGeometryData object at 0x0000000003C0DB00>, <awips.dataaccess.PyGeometryData.PyGeometryData object at 0x0000000003C0DB38>]\n",
      "<awips.dataaccess.PyGeometryData.PyGeometryData object at 0x0000000007B18A20>\n",
      "<awips.dataaccess.PyGeometryData.PyGeometryData object at 0x0000000007B18BA8>\n",
      "<awips.dataaccess.PyGeometryData.PyGeometryData object at 0x0000000003C0D5C0>\n",
      "<awips.dataaccess.PyGeometryData.PyGeometryData object at 0x0000000003C0D5F8>\n",
      "<awips.dataaccess.PyGeometryData.PyGeometryData object at 0x0000000003C0D588>\n",
      "<awips.dataaccess.PyGeometryData.PyGeometryData object at 0x0000000003C0D668>\n",
      "<awips.dataaccess.PyGeometryData.PyGeometryData object at 0x0000000003C0D6A0>\n",
      "<awips.dataaccess.PyGeometryData.PyGeometryData object at 0x0000000003C0D6D8>\n",
      "<awips.dataaccess.PyGeometryData.PyGeometryData object at 0x0000000003C0D710>\n",
      "<awips.dataaccess.PyGeometryData.PyGeometryData object at 0x0000000003C0D748>\n",
      "<awips.dataaccess.PyGeometryData.PyGeometryData object at 0x0000000003C0D780>\n",
      "<awips.dataaccess.PyGeometryData.PyGeometryData object at 0x0000000003C0D7B8>\n",
      "<awips.dataaccess.PyGeometryData.PyGeometryData object at 0x0000000003C0D7F0>\n",
      "<awips.dataaccess.PyGeometryData.PyGeometryData object at 0x0000000003C0D828>\n",
      "<awips.dataaccess.PyGeometryData.PyGeometryData object at 0x0000000003C0D860>\n",
      "<awips.dataaccess.PyGeometryData.PyGeometryData object at 0x0000000003C0D898>\n",
      "<awips.dataaccess.PyGeometryData.PyGeometryData object at 0x0000000003C0D8D0>\n",
      "<awips.dataaccess.PyGeometryData.PyGeometryData object at 0x0000000003C0D908>\n",
      "<awips.dataaccess.PyGeometryData.PyGeometryData object at 0x0000000003C0D940>\n",
      "<awips.dataaccess.PyGeometryData.PyGeometryData object at 0x0000000003C0D978>\n",
      "<awips.dataaccess.PyGeometryData.PyGeometryData object at 0x0000000003C0D9B0>\n",
      "<awips.dataaccess.PyGeometryData.PyGeometryData object at 0x0000000003C0D9E8>\n",
      "<awips.dataaccess.PyGeometryData.PyGeometryData object at 0x0000000003C0DA20>\n",
      "<awips.dataaccess.PyGeometryData.PyGeometryData object at 0x0000000003C0DA58>\n",
      "<awips.dataaccess.PyGeometryData.PyGeometryData object at 0x0000000003C0DA90>\n",
      "<awips.dataaccess.PyGeometryData.PyGeometryData object at 0x0000000003C0DAC8>\n",
      "<awips.dataaccess.PyGeometryData.PyGeometryData object at 0x0000000003C0DB00>\n",
      "<awips.dataaccess.PyGeometryData.PyGeometryData object at 0x0000000003C0DB38>\n"
     ]
    },
    {
     "data": {
      "text/plain": [
       "'KDNR'"
      ]
     },
     "execution_count": 23,
     "metadata": {},
     "output_type": "execute_result"
    }
   ],
   "source": [
    "print(response)\n",
    "\n",
    "for ob in response:\n",
    "    print(ob)\n",
    "\n",
    "ob.getString(\"staName\")"
   ]
  },
  {
   "cell_type": "code",
   "execution_count": null,
   "metadata": {
    "collapsed": true
   },
   "outputs": [],
   "source": [
    "# Initialize data arrays\n",
    "tpMan,tdMan,prMan,htMan,wdMan,wsMan = [],[],[],[],[],[]\n",
    "\n",
    "# Build ordered arrays\n",
    "for ob in response:\n",
    "    print float(ob.getString(\"prMan\")), float(ob.getString(\"wsMan\"))\n",
    "    tpMan.append(float(ob.getString(\"tpMan\")))\n",
    "    tdMan.append(float(ob.getString(\"tdMan\")))\n",
    "    prMan.append(float(ob.getString(\"prMan\")))\n",
    "    htMan.append(float(ob.getString(\"htMan\")))\n",
    "    wdMan.append(float(ob.getString(\"wdMan\")))\n",
    "    wsMan.append(float(ob.getString(\"wsMan\")))\n",
    "\n",
    "# we can use units.* here...\n",
    "T = np.array(tpMan)-273.15\n",
    "Td = np.array(tdMan)-273.15\n",
    "p = np.array(prMan)/100\n",
    "height = np.array(htMan)\n",
    "direc = np.array(wdMan)\n",
    "spd = np.array(wsMan)\n",
    "u, v = get_wind_components(spd, np.deg2rad(direc))\n",
    "\n",
    "p = p * units.mbar\n",
    "T = T * units.degC\n",
    "Td = Td * units.degC\n",
    "spd = spd * units.knot\n",
    "direc = direc * units.deg\n",
    "\n",
    "# Create a skewT plot\n",
    "skew = SkewT()\n",
    "\n",
    "# Plot the data using normal plotting functions, in this case using\n",
    "# log scaling in Y, as dictated by the typical meteorological plot\n",
    "skew.plot(p, T, 'r')\n",
    "skew.plot(p, Td, 'g')\n",
    "skew.plot_barbs(p, u, v)\n",
    "skew.ax.set_ylim(1000, 100)\n",
    "skew.ax.set_xlim(-40, 60)\n",
    "\n",
    "# Calculate LCL height and plot as black dot\n",
    "l = lcl(p[0], T[0], Td[0])\n",
    "lcl_temp = dry_lapse(concatenate((p[0], l)), T[0])[-1].to('degC')\n",
    "skew.plot(l, lcl_temp, 'ko', markerfacecolor='black')\n",
    "\n",
    "# Calculate full parcel profile and add to plot as black line\n",
    "prof = parcel_profile(p, T[0], Td[0]).to('degC')\n",
    "skew.plot(p, prof, 'k', linewidth=2)\n",
    "\n",
    "# Example of coloring area between profiles\n",
    "skew.ax.fill_betweenx(p, T, prof, where=T>=prof, facecolor='blue', alpha=0.4)\n",
    "skew.ax.fill_betweenx(p, T, prof, where=T<prof, facecolor='red', alpha=0.4)\n",
    "\n",
    "# An example of a slanted line at constant T -- in this case the 0 isotherm\n",
    "l = skew.ax.axvline(0, color='c', linestyle='--', linewidth=2)\n",
    "\n",
    "# Draw hodograph\n",
    "ax_hod = inset_axes(skew.ax, '40%', '40%', loc=3)\n",
    "h = Hodograph(ax_hod, component_range=80.)\n",
    "h.add_grid(increment=20)\n",
    "h.plot_colormapped(u, v, spd)\n",
    "\n",
    "# Show the plot\n",
    "plt.show()"
   ]
  },
  {
   "cell_type": "code",
   "execution_count": null,
   "metadata": {
    "collapsed": true
   },
   "outputs": [],
   "source": []
  }
 ],
 "metadata": {
  "kernelspec": {
   "display_name": "Python 2",
   "language": "python",
   "name": "python2"
  },
  "language_info": {
   "codemirror_mode": {
    "name": "ipython",
    "version": 2
   },
   "file_extension": ".py",
   "mimetype": "text/x-python",
   "name": "python",
   "nbconvert_exporter": "python",
   "pygments_lexer": "ipython2",
   "version": "2.7.11"
  }
 },
 "nbformat": 4,
 "nbformat_minor": 0
}
